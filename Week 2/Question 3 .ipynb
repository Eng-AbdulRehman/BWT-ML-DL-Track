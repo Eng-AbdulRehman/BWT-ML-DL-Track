{
 "cells": [
  {
   "cell_type": "code",
   "execution_count": 20,
   "id": "cf949784-bf0f-461d-900f-dfd383f1c699",
   "metadata": {},
   "outputs": [
    {
     "name": "stdin",
     "output_type": "stream",
     "text": [
      "Enter the Value of temp: 45\n",
      "Enter the scale ('C' for Celsius, 'F' for Fahrenheit):  °F\n"
     ]
    },
    {
     "name": "stdout",
     "output_type": "stream",
     "text": [
      "45.0°F is equal to 7.222222222222222°C.\n"
     ]
    }
   ],
   "source": [
    "def convert_temperature(temp, scale):\n",
    "    if scale == \"°C\":\n",
    "        convert_temp = (temp * 9/5) + 35\n",
    "        print(f\"{temp}°C is equal to {convert_temp}°F.\")\n",
    "    elif scale == \"°F\" :\n",
    "        convert_temp = (temp - 32) * 5/9\n",
    "        print(f\"{temp}°F is equal to {convert_temp}°C.\")\n",
    "    else: \n",
    "        print(f\"(Invalid Scale. Wright C or F\")\n",
    "        return None\n",
    "Temperature = float(input(\"Enter the Value of temp:\"))\n",
    "scale = input(\"Enter the scale ('C' for Celsius, 'F' for Fahrenheit): \")\n",
    "convert_temperature(Temperature, scale)\n",
    "        "
   ]
  },
  {
   "cell_type": "code",
   "execution_count": null,
   "id": "220937eb-0782-4dcf-ba7c-2a133bf60a02",
   "metadata": {},
   "outputs": [],
   "source": []
  }
 ],
 "metadata": {
  "kernelspec": {
   "display_name": "Python 3 (ipykernel)",
   "language": "python",
   "name": "python3"
  },
  "language_info": {
   "codemirror_mode": {
    "name": "ipython",
    "version": 3
   },
   "file_extension": ".py",
   "mimetype": "text/x-python",
   "name": "python",
   "nbconvert_exporter": "python",
   "pygments_lexer": "ipython3",
   "version": "3.12.0"
  }
 },
 "nbformat": 4,
 "nbformat_minor": 5
}
