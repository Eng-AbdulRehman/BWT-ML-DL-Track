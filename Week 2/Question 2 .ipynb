{
 "cells": [
  {
   "cell_type": "code",
   "execution_count": 8,
   "id": "e077b1fb-bcb2-48e1-a440-acd2f906e136",
   "metadata": {},
   "outputs": [
    {
     "name": "stdin",
     "output_type": "stream",
     "text": [
      "Enter the Integer:  5\n"
     ]
    },
    {
     "name": "stdout",
     "output_type": "stream",
     "text": [
      "The Number 5 is odd Number.\n"
     ]
    },
    {
     "data": {
      "text/plain": [
       "False"
      ]
     },
     "execution_count": 8,
     "metadata": {},
     "output_type": "execute_result"
    }
   ],
   "source": [
    "def Is_Even(Number):\n",
    "    if Number % 2 == 0:\n",
    "        print(f\"The Number {Number} is Even Number .\")\n",
    "        return True\n",
    "    else:\n",
    "        print(f\"The Number {Number} is odd Number.\")\n",
    "        return False\n",
    "N = int(input(\"Enter the Integer: \"))\n",
    "Is_Even(N)"
   ]
  },
  {
   "cell_type": "code",
   "execution_count": null,
   "id": "c2ac67bb-d762-4f87-b4ef-528664b860bc",
   "metadata": {},
   "outputs": [],
   "source": []
  }
 ],
 "metadata": {
  "kernelspec": {
   "display_name": "Python 3 (ipykernel)",
   "language": "python",
   "name": "python3"
  },
  "language_info": {
   "codemirror_mode": {
    "name": "ipython",
    "version": 3
   },
   "file_extension": ".py",
   "mimetype": "text/x-python",
   "name": "python",
   "nbconvert_exporter": "python",
   "pygments_lexer": "ipython3",
   "version": "3.12.0"
  }
 },
 "nbformat": 4,
 "nbformat_minor": 5
}
