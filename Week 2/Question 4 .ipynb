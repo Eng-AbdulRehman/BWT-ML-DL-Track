{
 "cells": [
  {
   "cell_type": "code",
   "execution_count": 31,
   "id": "4802b9e2-504f-4e6d-8cb1-a8bae2424de9",
   "metadata": {},
   "outputs": [
    {
     "name": "stdin",
     "output_type": "stream",
     "text": [
      "Enter The number for list:  1\n",
      "Enter The number for list:  2\n",
      "Enter The number for list:  3\n",
      "Enter The number for list:  4\n",
      "Enter The number for list:  5\n"
     ]
    },
    {
     "name": "stdout",
     "output_type": "stream",
     "text": [
      "The maximum number is: 5.0\n",
      "The minimum number is: 1.0\n"
     ]
    }
   ],
   "source": [
    "def Number():\n",
    "    number = []\n",
    "    for i in range(5):\n",
    "        while True:\n",
    "            try:\n",
    "                num = float(input(f\"Enter The number for list: \"))\n",
    "                number.append(num)\n",
    "                break\n",
    "            except Non-Valid_Number:\n",
    "                print(\"The number enter in not Valid, Plz Enter a Valid Number\")\n",
    "    return number\n",
    "Obtained_list = Number()\n",
    "def find_max_min(numbers_list):\n",
    "    max_num  = max(numbers_list)\n",
    "    min_num  = min(numbers_list)\n",
    "    return max_num,min_num\n",
    "max_num, min_num = find_max_min(Obtained_list)\n",
    "print(f\"The maximum number is: {max_num}\")\n",
    "print(f\"The minimum number is: {min_num}\")\n"
   ]
  },
  {
   "cell_type": "code",
   "execution_count": null,
   "id": "ee7947aa-4790-4e45-801b-c41e408c3f8d",
   "metadata": {},
   "outputs": [],
   "source": []
  }
 ],
 "metadata": {
  "kernelspec": {
   "display_name": "Python 3 (ipykernel)",
   "language": "python",
   "name": "python3"
  },
  "language_info": {
   "codemirror_mode": {
    "name": "ipython",
    "version": 3
   },
   "file_extension": ".py",
   "mimetype": "text/x-python",
   "name": "python",
   "nbconvert_exporter": "python",
   "pygments_lexer": "ipython3",
   "version": "3.12.0"
  }
 },
 "nbformat": 4,
 "nbformat_minor": 5
}
