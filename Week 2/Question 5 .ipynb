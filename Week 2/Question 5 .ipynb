{
 "cells": [
  {
   "cell_type": "code",
   "execution_count": 5,
   "id": "c8d75ec8-058f-46c1-b9dc-d61d3c0f5cae",
   "metadata": {},
   "outputs": [
    {
     "name": "stdout",
     "output_type": "stream",
     "text": [
      "Enter details for student 1es:\n"
     ]
    },
    {
     "name": "stdin",
     "output_type": "stream",
     "text": [
      "Name:  Abdul Rehman\n",
      "Age:  21\n",
      "Grade:  B\n"
     ]
    },
    {
     "name": "stdout",
     "output_type": "stream",
     "text": [
      "Enter details for student 2es:\n"
     ]
    },
    {
     "name": "stdin",
     "output_type": "stream",
     "text": [
      "Name:  Alo\n",
      "Age:  21\n",
      "Grade:  C\n"
     ]
    },
    {
     "name": "stdout",
     "output_type": "stream",
     "text": [
      "Enter details for student 3es:\n"
     ]
    },
    {
     "name": "stdin",
     "output_type": "stream",
     "text": [
      "Name:  Qadir\n",
      "Age:  21\n",
      "Grade:  B\n"
     ]
    },
    {
     "name": "stdout",
     "output_type": "stream",
     "text": [
      "\n",
      "Student Information:\n",
      "Name: Abdul Rehman, Age: 21, Grade: B\n",
      "Name: Alo, Age: 21, Grade: C\n",
      "Name: Qadir, Age: 21, Grade: B\n"
     ]
    }
   ],
   "source": [
    "# Write a code that will:\n",
    "# 1. Prompt the user to enter details of 3 students: name, age, and grade.\n",
    "# 2. Stores these details in a list of tuples, with each tuple containing the name, age, and grade of a student.\n",
    "# 3. Convert this list of tuples into a dictionary with the student name as the key and the tuple (age, grade) as the value.\n",
    "# 4. Displays an appropriate output.\n",
    "\n",
    "def Students():\n",
    "    students = []\n",
    "    for i in range(3):\n",
    "        print(f\"Enter details for student {i + 1}es:\")\n",
    "        Name = input(\"Name: \")\n",
    "        Age = input(\"Age: \")\n",
    "        Grade = input(\"Grade: \")\n",
    "        students.append((Name, Age, Grade))\n",
    "    return students\n",
    "\n",
    "def converted_dictionary(student_list):\n",
    "   \n",
    "    student_dict = {name: (age, grade) for name, age, grade in student_list}\n",
    "    return student_dict\n",
    "def display_students(student_dict):\n",
    "    print(\"\\nStudent Information:\")\n",
    "    for name, info in student_dict.items():\n",
    "        age, grade = info\n",
    "        print(f\"Name: {name}, Age: {age}, Grade: {grade}\")\n",
    "\n",
    "students = Students()\n",
    "\n",
    "# Convert the list of tuples into a dictionary\n",
    "student_dict = converted_dictionary(students)\n",
    "\n",
    "# Display the student information\n",
    "display_students(student_dict)\n"
   ]
  },
  {
   "cell_type": "code",
   "execution_count": null,
   "id": "a2fdb5e5-15e9-4725-8ef2-0bc4ddbf1a35",
   "metadata": {},
   "outputs": [],
   "source": []
  }
 ],
 "metadata": {
  "kernelspec": {
   "display_name": "Python 3 (ipykernel)",
   "language": "python",
   "name": "python3"
  },
  "language_info": {
   "codemirror_mode": {
    "name": "ipython",
    "version": 3
   },
   "file_extension": ".py",
   "mimetype": "text/x-python",
   "name": "python",
   "nbconvert_exporter": "python",
   "pygments_lexer": "ipython3",
   "version": "3.12.0"
  }
 },
 "nbformat": 4,
 "nbformat_minor": 5
}
