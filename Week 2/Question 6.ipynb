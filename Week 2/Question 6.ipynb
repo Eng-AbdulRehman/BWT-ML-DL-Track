{
 "cells": [
  {
   "cell_type": "code",
   "execution_count": 3,
   "id": "7103f3b2-342b-4a85-8165-3613c51bbe65",
   "metadata": {},
   "outputs": [
    {
     "name": "stdout",
     "output_type": "stream",
     "text": [
      "{'Surf': 0, 'Atta': 1, 'Fruits': 3}\n",
      "{'Surf': 0, 'Atta': 0, 'Fruits': 3}\n",
      "{'Surf': 0, 'Atta': 0, 'Fruits': 10}\n",
      "{'Surf': 0, 'Atta': 0, 'Fruits': 10, 'Vegitables': 3}\n",
      "{'Surf': 0, 'Atta': 0, 'Fruits': 10, 'Vegitables': 3, 'Beans': 7}\n"
     ]
    }
   ],
   "source": [
    "# Write a code for function `update_inventory(inventory_dict, item, quantity)` that will:\n",
    "# 1. Take a dictionary where keys are item names and values are quantities, an item name, and a quantity to add or remove.\n",
    "# 2. Updates the inventory by adding or removing the specified quantity (use negative values for removal).\n",
    "# 3. Ensures that the quantity of any item does not go below zero.\n",
    "# 4. Returns the updated dictionary.\n",
    "\n",
    "def update_inventory(inventory_dict, item, quantity):\n",
    "    if item in inventory_dict:\n",
    "        inventory_dict[item] = max(0, inventory_dict[item] + quantity)\n",
    "    else:\n",
    "        if quantity > 0:\n",
    "            inventory_dict[item] = quantity\n",
    "        else:\n",
    "            inventory_dict[item] = 0  \n",
    "    return inventory_dict\n",
    "inventory = {\"Surf\": 100, \"Atta\":1, \"Fruits\": 3}\n",
    "print(update_inventory(inventory, \"Surf\", -101))  \n",
    "print(update_inventory(inventory, \"Atta\", -2))  \n",
    "print(update_inventory(inventory, \"Fruits\", 7)) \n",
    "print(update_inventory(inventory, \"Vegitables\", 3))\n",
    "print(update_inventory(inventory, \"Beans\", 7)) \n"
   ]
  },
  {
   "cell_type": "code",
   "execution_count": null,
   "id": "3bdf653c-6dfa-4c8e-9972-e6eb89e03f95",
   "metadata": {},
   "outputs": [],
   "source": []
  }
 ],
 "metadata": {
  "kernelspec": {
   "display_name": "Python 3 (ipykernel)",
   "language": "python",
   "name": "python3"
  },
  "language_info": {
   "codemirror_mode": {
    "name": "ipython",
    "version": 3
   },
   "file_extension": ".py",
   "mimetype": "text/x-python",
   "name": "python",
   "nbconvert_exporter": "python",
   "pygments_lexer": "ipython3",
   "version": "3.12.0"
  }
 },
 "nbformat": 4,
 "nbformat_minor": 5
}
