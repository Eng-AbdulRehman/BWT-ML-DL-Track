{
 "cells": [
  {
   "cell_type": "code",
   "execution_count": 6,
   "id": "061f50ec-5c68-417d-8ad0-1b05c33bed90",
   "metadata": {},
   "outputs": [
    {
     "name": "stdin",
     "output_type": "stream",
     "text": [
      "Please Enter your name: Abdul Rehman\n",
      "Please Enter your Age: 21\n",
      "Please Enter your Email: abdul.rehman.6969264@gmail.com\n",
      "Please Enter your Favourite Number: 7\n"
     ]
    },
    {
     "name": "stdout",
     "output_type": "stream",
     "text": [
      "The Student Information is:\n",
      "Name: Abdul Rehman\n",
      "Age: 21\n",
      "Email: abdul.rehman.6969264@gmail.com\n",
      "Favorite Number: 7\n"
     ]
    }
   ],
   "source": [
    "def Mani():\n",
    "    Name = input(\"Please Enter your name:\") \n",
    "    Age = input(\"Please Enter your Age:\") \n",
    "    Email = input(\"Please Enter your Email:\") \n",
    "    Favourite_Number = input(\"Please Enter your Favourite Number:\") \n",
    "    print(\"The Student Information is:\")\n",
    "    print(f\"Name: {Name}\")\n",
    "    print(f\"Age: {Age}\")\n",
    "    print(f\"Email: {Email}\")\n",
    "    print(f\"Favorite Number: {Favourite_Number}\")\n",
    "Mani()\n"
   ]
  },
  {
   "cell_type": "code",
   "execution_count": 7,
   "id": "0f3e1626-7389-4d06-928d-f4cdd8687fc0",
   "metadata": {},
   "outputs": [
    {
     "name": "stdin",
     "output_type": "stream",
     "text": [
      "Please Enter your name:  Abdul Rehman\n",
      "Please Enter your age:  21\n",
      "Please Enter your email:  abdul.rehman.6969264@gmail.com\n",
      "Please Enter your favourite number:  7\n"
     ]
    },
    {
     "name": "stdout",
     "output_type": "stream",
     "text": [
      "\n",
      "Here is the information you entered:\n",
      "Name: Abdul Rehman\n",
      "Age: 21\n",
      "Email: abdul.rehman.6969264@gmail.com\n",
      "Favorite Number: 7\n"
     ]
    }
   ],
   "source": [
    "def Mani():\n",
    "    name = input(\"Please Enter your name: \") \n",
    "    age = input(\"Please Enter your age: \") \n",
    "    email = input(\"Please Enter your email: \") \n",
    "    favourite_number = input(\"Please Enter your favourite number: \") \n",
    "    D = {\"Name\": name,\"Age\": age,\"Email\": email,\"Favorite Number\": favourite_number}\n",
    "    return D\n",
    "D = Mani()\n",
    "print(\"\\nHere is the information you entered:\")\n",
    "for key, value in D.items():\n",
    "    print(f\"{key}: {value}\")"
   ]
  },
  {
   "cell_type": "code",
   "execution_count": 10,
   "id": "60bf3fee-8bd6-4c6d-a68a-b25033144665",
   "metadata": {},
   "outputs": [
    {
     "name": "stdin",
     "output_type": "stream",
     "text": [
      "Please Enter your name: Abdul Rehman\n",
      "Please Enter your Age: 21\n",
      "Please Enter your Email: abdul.rehman.6969264gmail.com\n"
     ]
    },
    {
     "name": "stdout",
     "output_type": "stream",
     "text": [
      "Provided Email is doesn't contain @ or .\n"
     ]
    }
   ],
   "source": [
    "import re\n",
    "def Mani():\n",
    "    Name = input(\"Please Enter your name:\") \n",
    "    Age = input(\"Please Enter your Age:\") \n",
    "    Email = input(\"Please Enter your Email:\") \n",
    "    while True:\n",
    "        if Valide_Email(Email):\n",
    "            print(f\"{Email} is Valide.\")\n",
    "            break\n",
    "        else:\n",
    "            print(\"Provided Email is doesn't contain @ or .\")\n",
    "            return\n",
    "    Favourite_Number = input(\"Please Enter your Favourite Number:\")\n",
    "def Valide_Email(Email):\n",
    "    Email_regular_exp = r'^[a-zA-Z0-9_.+-]+@[a-zA-Z0-9-]+\\.[a-zA-Z0-9-.]+$'\n",
    "    return re.match(Email_regular_exp, Email)\n",
    "Mani()\n",
    "    \n",
    "    "
   ]
  },
  {
   "cell_type": "code",
   "execution_count": 11,
   "id": "b0ebc3a3-43d4-4271-86dd-322414ac1803",
   "metadata": {},
   "outputs": [
    {
     "name": "stdin",
     "output_type": "stream",
     "text": [
      "Please Enter your name: Abdul Rehman\n",
      "Please Enter your Age: 21\n",
      "Please Enter your Email: abdul.rehman.6969264@gmail.com\n",
      "Please Enter your Favourite Number: 7\n"
     ]
    },
    {
     "name": "stdout",
     "output_type": "stream",
     "text": [
      "Hello Abdul Rehman, you are 21 years old, your email is abdul.rehman.6969264@gmail.com, and your Favourite number is 7.\n"
     ]
    }
   ],
   "source": [
    "Name = input(\"Please Enter your name:\") \n",
    "Age = input(\"Please Enter your Age:\") \n",
    "Email = input(\"Please Enter your Email:\") \n",
    "Favourite_Number = input(\"Please Enter your Favourite Number:\") \n",
    "print(f\"Hello {Name}, you are {Age} years old, your email is {Email}, and your Favourite number is {Favourite_Number}.\")"
   ]
  },
  {
   "cell_type": "code",
   "execution_count": null,
   "id": "db6b3630-dba4-42ed-8b93-8b8d65bc5382",
   "metadata": {},
   "outputs": [],
   "source": []
  },
  {
   "cell_type": "code",
   "execution_count": null,
   "id": "5412359f-870e-4e1e-bb1f-67e171106fc4",
   "metadata": {},
   "outputs": [],
   "source": []
  }
 ],
 "metadata": {
  "kernelspec": {
   "display_name": "Python 3 (ipykernel)",
   "language": "python",
   "name": "python3"
  },
  "language_info": {
   "codemirror_mode": {
    "name": "ipython",
    "version": 3
   },
   "file_extension": ".py",
   "mimetype": "text/x-python",
   "name": "python",
   "nbconvert_exporter": "python",
   "pygments_lexer": "ipython3",
   "version": "3.12.0"
  }
 },
 "nbformat": 4,
 "nbformat_minor": 5
}
